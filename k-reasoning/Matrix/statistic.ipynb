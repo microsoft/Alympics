{
 "cells": [
  {
   "cell_type": "code",
   "execution_count": 4,
   "metadata": {},
   "outputs": [],
   "source": [
    "from glob import glob\n",
    "import json"
   ]
  },
  {
   "cell_type": "code",
   "execution_count": 73,
   "metadata": {},
   "outputs": [
    {
     "name": "stdout",
     "output_type": "stream",
     "text": [
      "\n",
      "+-------------+-----------+--------+\n",
      "| Alex \\ Bob  | Cooperate | Betray |\n",
      "+-------------+-----------+--------+\n",
      "|  Cooperate  |   (0,0)   |  (0,1) |\n",
      "+-------------+-----------+--------+\n",
      "|    Betray   |   (1,0)   |  (1,1) |\n",
      "+-------------+-----------+--------+\n",
      "\n",
      "                      | (0, 0) | (0, 1) | (1, 0) | (1, 1) |\n",
      "+---------------------+--------+--------+--------+--------+\n",
      "|  1-Level vs 1-Level |    5   |    0   |    0   |    0   |\n",
      "|  1-Level vs 2-Level |    0   |    5   |    0   |    0   |\n",
      "|  1-Level vs 3-Level |    1   |    4   |    0   |    0   |\n",
      "|  1-Level vs 4-Level |    0   |    5   |    0   |    0   |\n",
      "|  2-Level vs 2-Level |    0   |    1   |    1   |    3   |\n",
      "|  2-Level vs 3-Level |    0   |    1   |    0   |    4   |\n",
      "|  2-Level vs 4-Level |    0   |    2   |    0   |    3   |\n",
      "|  3-Level vs 3-Level |    0   |    0   |    2   |    3   |\n",
      "|  3-Level vs 4-Level |    0   |    0   |    0   |    5   |\n",
      "|  4-Level vs 4-Level |    0   |    0   |    0   |    5   |\n"
     ]
    }
   ],
   "source": [
    "print(\"\"\"\n",
    "+-------------+-----------+--------+\n",
    "| Alex \\ Bob  | Cooperate | Betray |\n",
    "+-------------+-----------+--------+\n",
    "|  Cooperate  |   (0,0)   |  (0,1) |\n",
    "+-------------+-----------+--------+\n",
    "|    Betray   |   (1,0)   |  (1,1) |\n",
    "+-------------+-----------+--------+\n",
    "\"\"\")\n",
    "\n",
    "\n",
    "static = {\n",
    "            (0,0): 0,\n",
    "            (0,1): 0,\n",
    "            (1,0): 0,\n",
    "            (1,1): 0\n",
    "        }\n",
    "\n",
    "print(\" \",\" \"*19,\"|\",\" | \".join(map(str, static.keys())),\"|\")\n",
    "print(\"+---------------------+--------+--------+--------+--------+\")\n",
    "\n",
    "for player_k in range(1,5):\n",
    "    for computer_k in range(1,5):\n",
    "        if computer_k < player_k: continue\n",
    "        player_strategy =  {1: \"agent\",2:\"kr\"}.get(player_k, f\"kr-{player_k}\")\n",
    "        computer_strategy =  {1: \"agent\",2:\"kr\"}.get(computer_k, f\"kr-{computer_k}\")\n",
    "        results = glob(f\"result/{player_strategy}_VS_{computer_strategy}_*.json\")\n",
    "        static = {\n",
    "            (0,0): 0,\n",
    "            (0,1): 0,\n",
    "            (1,0): 0,\n",
    "            (1,1): 0\n",
    "        }\n",
    "        for result in results:\n",
    "            with open(result) as fin:\n",
    "                result = json.load(fin)\n",
    "                actions =( result[\"actions\"][\"Alex\"][0], result[\"actions\"][\"Bob\"][0])\n",
    "                static[actions]+=1\n",
    "        print(f\"|  {player_k}-Level vs {computer_k}-Level |   \", \"   |    \".join(map(str, static.values())),\"  |\")\n",
    "\n"
   ]
  }
 ],
 "metadata": {
  "kernelspec": {
   "display_name": "Python 3",
   "language": "python",
   "name": "python3"
  },
  "language_info": {
   "codemirror_mode": {
    "name": "ipython",
    "version": 3
   },
   "file_extension": ".py",
   "mimetype": "text/x-python",
   "name": "python",
   "nbconvert_exporter": "python",
   "pygments_lexer": "ipython3",
   "version": "3.10.0"
  }
 },
 "nbformat": 4,
 "nbformat_minor": 2
}
